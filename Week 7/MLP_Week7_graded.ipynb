{
  "nbformat": 4,
  "nbformat_minor": 0,
  "metadata": {
    "colab": {
      "provenance": []
    },
    "kernelspec": {
      "name": "python3",
      "display_name": "Python 3"
    },
    "language_info": {
      "name": "python"
    }
  },
  "cells": [
    {
      "cell_type": "code",
      "execution_count": 1,
      "metadata": {
        "id": "RaQX8RKyFWqk"
      },
      "outputs": [],
      "source": [
        "from sklearn.datasets import fetch_openml\n"
      ]
    },
    {
      "cell_type": "code",
      "source": [
        "X, y = fetch_openml('mnist_784', version=1, as_frame=True, return_X_y=True)"
      ],
      "metadata": {
        "colab": {
          "base_uri": "https://localhost:8080/"
        },
        "id": "OT_Fpp4LFtL3",
        "outputId": "9f4216fc-717f-4b98-927c-86bdc56f7265"
      },
      "execution_count": 2,
      "outputs": [
        {
          "output_type": "stream",
          "name": "stderr",
          "text": [
            "/usr/local/lib/python3.10/dist-packages/sklearn/datasets/_openml.py:1022: FutureWarning: The default value of `parser` will change from `'liac-arff'` to `'auto'` in 1.4. You can set `parser='auto'` to silence this warning. Therefore, an `ImportError` will be raised from 1.4 if the dataset is dense and pandas is not installed. Note that the pandas parser may return different data types. See the Notes Section in fetch_openml's API doc for details.\n",
            "  warn(\n"
          ]
        }
      ]
    },
    {
      "cell_type": "code",
      "source": [
        "X.shape"
      ],
      "metadata": {
        "colab": {
          "base_uri": "https://localhost:8080/"
        },
        "id": "GRU1ZWIuF-A6",
        "outputId": "7c4b1bc1-0347-46b4-cd43-274a589cf079"
      },
      "execution_count": 3,
      "outputs": [
        {
          "output_type": "execute_result",
          "data": {
            "text/plain": [
              "(70000, 784)"
            ]
          },
          "metadata": {},
          "execution_count": 3
        }
      ]
    },
    {
      "cell_type": "code",
      "source": [
        "y.shape"
      ],
      "metadata": {
        "colab": {
          "base_uri": "https://localhost:8080/"
        },
        "id": "mCYnhVTLF_6v",
        "outputId": "1f70dbb0-1f4f-4d57-fca9-5bf9f08e8420"
      },
      "execution_count": 4,
      "outputs": [
        {
          "output_type": "execute_result",
          "data": {
            "text/plain": [
              "(70000,)"
            ]
          },
          "metadata": {},
          "execution_count": 4
        }
      ]
    },
    {
      "cell_type": "code",
      "source": [
        "train_perc = 0.7"
      ],
      "metadata": {
        "id": "SBtrHBwnGNrx"
      },
      "execution_count": 5,
      "outputs": []
    },
    {
      "cell_type": "code",
      "source": [
        "train_limit = int(X.shape[0] * train_perc)"
      ],
      "metadata": {
        "id": "DZNLmi6HGTjX"
      },
      "execution_count": 8,
      "outputs": []
    },
    {
      "cell_type": "code",
      "source": [
        "X_train, X_test, y_train, y_test = X[:train_limit], X[train_limit:], y[:train_limit], y[train_limit:]"
      ],
      "metadata": {
        "id": "LCel9K1MGDpu"
      },
      "execution_count": 9,
      "outputs": []
    },
    {
      "cell_type": "code",
      "source": [
        "y_train.iloc[-1]"
      ],
      "metadata": {
        "colab": {
          "base_uri": "https://localhost:8080/",
          "height": 36
        },
        "id": "mExNF5_QGox5",
        "outputId": "1673779c-7635-4ba0-9b71-297b6140164c"
      },
      "execution_count": 11,
      "outputs": [
        {
          "output_type": "execute_result",
          "data": {
            "text/plain": [
              "'6'"
            ],
            "application/vnd.google.colaboratory.intrinsic+json": {
              "type": "string"
            }
          },
          "metadata": {},
          "execution_count": 11
        }
      ]
    },
    {
      "cell_type": "markdown",
      "source": [
        "Build a classifier that differentiates digit 6 from digit 9.\n",
        "Steps to be followed\n",
        "1. Collect all digit-6 (Positive class) and digit-9 (Negative class) images from x_train and stack them properly as a single datamatrix x_train_69.\n",
        "2. Keep all digit-6 images from index 0 to i followed by digit-9 images from index i+1 to n (i denotes the end index of digit-6 images)\n",
        "3. Similarly, collect the respective labels and store it in a variable y_train_69\n",
        "4. Set the label values to 1 for positive classes and 0 for negative classes.\n",
        "5. Load from sklearn.utils import shuffle\n",
        "6. Shuffle the datamatrix and labels. (Set random_state value to 1729).\n",
        "7. Create x_test_69 and y_test_69 by repeating the steps from 1 to 6 with required modifications.\n",
        "\n",
        "What is the sum of all the labels in the vector y_train_69.\n",
        "\n",
        "Hint:-\n",
        "Use X-train, y_train as input to get  x_train_69 and y_train_69 and\n",
        "X_test , y_test as input  to get  x_test_69 and y_test_69"
      ],
      "metadata": {
        "id": "MaFCcOF9G7dV"
      }
    },
    {
      "cell_type": "code",
      "source": [
        "import pandas as pd\n",
        "\n",
        "# Collect indices of digit-6 images\n",
        "ind_train_6 = y_train[y_train == '6'].index\n",
        "# Collect indices of digit-9 images\n",
        "ind_train_9 = y_train[y_train == '9'].index\n",
        "\n",
        "# Extract digit-6 and digit-9 images and stack them\n",
        "x_train_6 = X_train.loc[ind_train_6, :]\n",
        "x_train_9 = X_train.loc[ind_train_9, :]\n",
        "x_train_69 = pd.concat([x_train_6, x_train_9])\n"
      ],
      "metadata": {
        "id": "ZR8FuhKyHG5G"
      },
      "execution_count": 12,
      "outputs": []
    },
    {
      "cell_type": "code",
      "source": [
        "# prompt: Keep all digit-6 images from index 0 to i followed by digit-9 images from index i+1 to n (i denotes the end index of digit-6 images)\n",
        "# Similarly, collect the respective labels and store it in a variable y_train_69\n",
        "\n",
        "# Extract labels of digit-6 and digit-9 images and stack them\n",
        "y_train_6 = pd.DataFrame(data=[1] * x_train_6.shape[0], index=ind_train_6, columns=['class'])\n",
        "y_train_9 = pd.DataFrame(data=[0] * x_train_9.shape[0], index=ind_train_9, columns=['class'])\n",
        "y_train_69 = pd.concat([y_train_6, y_train_9])\n"
      ],
      "metadata": {
        "id": "NvUaGcCiHUmR"
      },
      "execution_count": 13,
      "outputs": []
    },
    {
      "cell_type": "code",
      "source": [
        "# Set label values to 1 for positive classes and 0 for negative classes\n",
        "y_train_69['class'] = y_train_69['class'].replace({'6': 1, '9': 0}) # Assuming '6' is positive and '9' is negative\n"
      ],
      "metadata": {
        "id": "CV0nGOENHdLw"
      },
      "execution_count": 14,
      "outputs": []
    },
    {
      "cell_type": "code",
      "source": [
        "# prompt: Load from sklearn.utils import shuffle\n",
        "# Shuffle the datamatrix and labels. (Set random_state value to 1729).\n",
        "# Create x_test_69 and y_test_69 by repeating the steps from 1 to 6 with required modifications.\n",
        "\n",
        "from sklearn.utils import shuffle\n",
        "x_train_69, y_train_69 = shuffle(x_train_69, y_train_69, random_state=1729)\n",
        "\n",
        "# Repeat the steps for test data\n",
        "ind_test_6 = y_test[y_test == '6'].index\n",
        "ind_test_9 = y_test[y_test == '9'].index\n",
        "\n",
        "x_test_6 = X_test.loc[ind_test_6, :]\n",
        "x_test_9 = X_test.loc[ind_test_9, :]\n",
        "x_test_69 = pd.concat([x_test_6, x_test_9])\n",
        "\n",
        "y_test_6 = pd.DataFrame(data=[1] * x_test_6.shape[0], index=ind_test_6, columns=['class'])\n",
        "y_test_9 = pd.DataFrame(data=[0] * x_test_9.shape[0], index=ind_test_9, columns=['class'])\n",
        "y_test_69 = pd.concat([y_test_6, y_test_9])\n",
        "\n",
        "x_test_69, y_test_69 = shuffle(x_test_69, y_test_69, random_state=1729)\n"
      ],
      "metadata": {
        "id": "_sETpgQiHpsO"
      },
      "execution_count": 15,
      "outputs": []
    },
    {
      "cell_type": "code",
      "source": [
        "y_train_69.sum()"
      ],
      "metadata": {
        "colab": {
          "base_uri": "https://localhost:8080/"
        },
        "id": "OaCDLW19IYay",
        "outputId": "2bc2c5e5-7c25-4e05-bb7e-fbdb68995b73"
      },
      "execution_count": 16,
      "outputs": [
        {
          "output_type": "execute_result",
          "data": {
            "text/plain": [
              "class    4855\n",
              "dtype: int64"
            ]
          },
          "metadata": {},
          "execution_count": 16
        }
      ]
    },
    {
      "cell_type": "code",
      "source": [
        "y_test_69.sum()"
      ],
      "metadata": {
        "colab": {
          "base_uri": "https://localhost:8080/"
        },
        "id": "lqbppLqHIdbS",
        "outputId": "c62b21cb-61a8-45cf-add0-913368085256"
      },
      "execution_count": 17,
      "outputs": [
        {
          "output_type": "execute_result",
          "data": {
            "text/plain": [
              "class    2021\n",
              "dtype: int64"
            ]
          },
          "metadata": {},
          "execution_count": 17
        }
      ]
    },
    {
      "cell_type": "code",
      "source": [
        "# prompt: Apply StandardScaler to all the training samples in x_train_69 and store the result in another variable (say, x_train_69Tf)\n",
        "\n",
        "from sklearn.preprocessing import StandardScaler\n",
        "scaler = StandardScaler()\n",
        "x_train_69Tf = scaler.fit_transform(x_train_69)\n"
      ],
      "metadata": {
        "id": "hVcgyH86ImBH"
      },
      "execution_count": 18,
      "outputs": []
    },
    {
      "cell_type": "code",
      "source": [
        "x_train_69Tf[0].mean()"
      ],
      "metadata": {
        "colab": {
          "base_uri": "https://localhost:8080/"
        },
        "id": "u5jPmoGYItbI",
        "outputId": "a96bc8c2-06fc-4f0e-c973-d396748f71d4"
      },
      "execution_count": 19,
      "outputs": [
        {
          "output_type": "execute_result",
          "data": {
            "text/plain": [
              "0.08128379559427992"
            ]
          },
          "metadata": {},
          "execution_count": 19
        }
      ]
    },
    {
      "cell_type": "code",
      "source": [
        "x_train_69Tf[:, 0].mean()"
      ],
      "metadata": {
        "colab": {
          "base_uri": "https://localhost:8080/"
        },
        "id": "HEWKoe9BIzsf",
        "outputId": "9cec35b6-ada7-4bb9-e5f5-82eef8c086f2"
      },
      "execution_count": 20,
      "outputs": [
        {
          "output_type": "execute_result",
          "data": {
            "text/plain": [
              "0.0"
            ]
          },
          "metadata": {},
          "execution_count": 20
        }
      ]
    },
    {
      "cell_type": "code",
      "source": [
        "x_train_69Tf[0].std()"
      ],
      "metadata": {
        "colab": {
          "base_uri": "https://localhost:8080/"
        },
        "id": "b-0IR_4yJBD3",
        "outputId": "46d94294-d1d8-4e88-8e37-9ae37f968e3c"
      },
      "execution_count": 23,
      "outputs": [
        {
          "output_type": "execute_result",
          "data": {
            "text/plain": [
              "0.735882322603775"
            ]
          },
          "metadata": {},
          "execution_count": 23
        }
      ]
    },
    {
      "cell_type": "code",
      "source": [
        "x_train_69Tf[:, 0].std()"
      ],
      "metadata": {
        "colab": {
          "base_uri": "https://localhost:8080/"
        },
        "id": "__w7n8JuI50I",
        "outputId": "8b863a80-fedd-4392-8131-2fc54b416329"
      },
      "execution_count": 22,
      "outputs": [
        {
          "output_type": "execute_result",
          "data": {
            "text/plain": [
              "0.0"
            ]
          },
          "metadata": {},
          "execution_count": 22
        }
      ]
    },
    {
      "cell_type": "code",
      "source": [
        "import sklearn\n",
        "sklearn.__version__"
      ],
      "metadata": {
        "colab": {
          "base_uri": "https://localhost:8080/",
          "height": 36
        },
        "id": "87ZZcsg_Nn5v",
        "outputId": "6896761b-112b-47fb-f68e-3b7808312971"
      },
      "execution_count": 36,
      "outputs": [
        {
          "output_type": "execute_result",
          "data": {
            "text/plain": [
              "'1.3.2'"
            ],
            "application/vnd.google.colaboratory.intrinsic+json": {
              "type": "string"
            }
          },
          "metadata": {},
          "execution_count": 36
        }
      ]
    },
    {
      "cell_type": "code",
      "source": [
        "import numpy as np\n",
        "import matplotlib.pyplot as plt\n",
        "from sklearn.linear_model import SGDClassifier\n",
        "from sklearn.preprocessing import StandardScaler\n",
        "import sklearn\n",
        "import warnings\n",
        "\n",
        "# Ensure compatibility with sklearn version\n",
        "if sklearn.__version__ < \"0.24\":\n",
        "    warnings.warn(\"This code requires scikit-learn version 0.24 or higher.\", UserWarning)\n",
        "\n",
        "# Function to train the model and capture the loss\n",
        "def train_and_capture_loss(x_train, y_train, learning_rate, learning_rate_strategy='constant', power_t=0.5, scale=False):\n",
        "    if scale:\n",
        "        scaler = StandardScaler()\n",
        "        x_train = scaler.fit_transform(x_train)\n",
        "\n",
        "    model = SGDClassifier(loss='log_loss', learning_rate=learning_rate_strategy, eta0=learning_rate, power_t=power_t, random_state=10, max_iter=1, warm_start=True)\n",
        "    losses = []\n",
        "\n",
        "    for _ in range(30):\n",
        "        model.partial_fit(x_train, y_train, classes=np.unique(y_train))\n",
        "        # SGDClassifier does not have a direct loss attribute; we approximate the loss using log loss on the training set\n",
        "        y_pred_proba = model.predict_proba(x_train)\n",
        "        loss = sklearn.metrics.log_loss(y_train, y_pred_proba)\n",
        "        losses.append(loss)\n",
        "\n",
        "    return losses\n",
        "\n",
        "# Plotting function\n",
        "def plot_losses(losses, title):\n",
        "    plt.plot(range(1, 31), losses, marker='o')\n",
        "    plt.title(title)\n",
        "    plt.xlabel('Iteration')\n",
        "    plt.ylabel('Loss')\n",
        "    plt.grid()\n",
        "    plt.show()\n",
        "\n",
        "# A. Set Learning rate : 0.01 and plot the curve and fit the model with x_train_69\n",
        "losses_a = train_and_capture_loss(x_train_69, y_train_69.values.ravel(), learning_rate=0.01)\n",
        "plot_losses(losses_a, 'Learning Rate = 0.01 (No Scaling)')\n",
        "\n",
        "# B. Set learning rate to 0.000001 and fit the model with x_train_69\n",
        "losses_b = train_and_capture_loss(x_train_69, y_train_69.values.ravel(), learning_rate=0.000001)\n",
        "plot_losses(losses_b, 'Learning Rate = 0.000001 (No Scaling)')\n",
        "\n",
        "# C. Keep the learning rate as 0.01. Scale the samples using StandardScaler() and fit the model with the pre-processed samples\n",
        "losses_c = train_and_capture_loss(x_train_69, y_train_69.values.ravel(), learning_rate=0.01, scale=True)\n",
        "plot_losses(losses_c, 'Learning Rate = 0.01 (With Scaling)')\n",
        "\n",
        "# D. Use the \"invscaling\" strategy for the learning rate with power_t = 1. Fit the model with x_train_69 (without pre-processing)\n",
        "losses_d = train_and_capture_loss(x_train_69, y_train_69.values.ravel(), learning_rate=0.001, learning_rate_strategy='invscaling', power_t=1.0)\n",
        "plot_losses(losses_d, 'Learning Rate = 0.01 (Invscaling, No Scaling)')\n",
        "\n",
        "# Check for monotonic decrease\n",
        "def is_monotonic(losses):\n",
        "    return all(x >= y for x, y in zip(losses, losses[1:]))\n",
        "\n",
        "print(\"Is Loss Decreasing Monotonically:\")\n",
        "print(f\"A. {is_monotonic(losses_a)}\")\n",
        "print(f\"B. {is_monotonic(losses_b)}\")\n",
        "print(f\"C. {is_monotonic(losses_c)}\")\n",
        "print(f\"D. {is_monotonic(losses_d)}\")"
      ],
      "metadata": {
        "colab": {
          "base_uri": "https://localhost:8080/",
          "height": 1000
        },
        "id": "AAYLCHK6LmyQ",
        "outputId": "09ff9d3d-4d32-474c-c0a2-cdd32c07a0e9"
      },
      "execution_count": 44,
      "outputs": [
        {
          "output_type": "display_data",
          "data": {
            "text/plain": [
              "<Figure size 640x480 with 1 Axes>"
            ],
            "image/png": "[encoded data removed]"
          },
          "metadata": {}
        },
        {
          "output_type": "display_data",
          "data": {
            "text/plain": [
              "<Figure size 640x480 with 1 Axes>"
            ],
            "image/png": "[encoded data removed]"
          },
          "metadata": {}
        },
        {
          "output_type": "display_data",
          "data": {
            "text/plain": [
              "<Figure size 640x480 with 1 Axes>"
            ],
            "image/png": "[encoded data removed]"
          },
          "metadata": {}
        },
        {
          "output_type": "display_data",
          "data": {
            "text/plain": [
              "<Figure size 640x480 with 1 Axes>"
            ],
            "image/png": "[encoded data removed]"
          },
          "metadata": {}
        },
        {
          "output_type": "stream",
          "name": "stdout",
          "text": [
            "Is Loss Decreasing Monotonically:\n",
            "A. False\n",
            "B. True\n",
            "C. True\n",
            "D. True\n"
          ]
        }
      ]
    },
    {
      "cell_type": "code",
      "source": [
        "# prompt: Create the classifier with the following settings\n",
        "# 1. No Regularization\n",
        "# 2. eta0 = 0.5\n",
        "# 3. learning_rate = 'inv_scaling'\n",
        "# 4. power_t = 0.5\n",
        "# 5. iterations = 10\n",
        "# 6. Shuffle = True\n",
        "# 7. random_state = 10\n",
        "\n",
        "clf = SGDClassifier(loss='log_loss', eta0=0.5, learning_rate='invscaling',\n",
        "                    power_t=0.5, max_iter=10, shuffle=True, random_state=10)\n"
      ],
      "metadata": {
        "id": "U1Egw1KURN2r"
      },
      "execution_count": 47,
      "outputs": []
    },
    {
      "cell_type": "code",
      "source": [
        "# prompt: Train the classifier with x_train_69. Answer the following questions?\n",
        "# How many false positives (FP) are there in the predictions made on training samples?\n",
        "\n",
        "clf.fit(x_train_69, y_train_69.values.ravel())\n",
        "\n",
        "y_train_pred = clf.predict(x_train_69)\n",
        "\n",
        "# Calculate False Positives (FP)\n",
        "FP = np.sum((y_train_pred == 1) & (y_train_69.values.ravel() == 0))\n",
        "\n",
        "print(\"False Positives (FP):\", FP)\n"
      ],
      "metadata": {
        "colab": {
          "base_uri": "https://localhost:8080/"
        },
        "id": "HJoyMeA2RaIh",
        "outputId": "59360b46-d040-4e67-c318-9e9ddae7767a"
      },
      "execution_count": 48,
      "outputs": [
        {
          "output_type": "stream",
          "name": "stdout",
          "text": [
            "False Positives (FP): 8\n"
          ]
        },
        {
          "output_type": "stream",
          "name": "stderr",
          "text": [
            "/usr/local/lib/python3.10/dist-packages/sklearn/linear_model/_stochastic_gradient.py:713: ConvergenceWarning: Maximum number of iteration reached before convergence. Consider increasing max_iter to improve the fit.\n",
            "  warnings.warn(\n"
          ]
        }
      ]
    },
    {
      "cell_type": "code",
      "source": [
        "# prompt: confusion matrix display\n",
        "\n",
        "from sklearn.metrics import confusion_matrix, ConfusionMatrixDisplay\n",
        "\n",
        "cm = confusion_matrix(y_train_69, y_train_pred)\n",
        "disp = ConfusionMatrixDisplay(confusion_matrix=cm)\n",
        "disp.plot()\n",
        "plt.show()\n"
      ],
      "metadata": {
        "colab": {
          "base_uri": "https://localhost:8080/",
          "height": 449
        },
        "id": "kVCccJhhRfsL",
        "outputId": "7a9f4a24-24ad-4f44-f554-39db17c9b749"
      },
      "execution_count": 49,
      "outputs": [
        {
          "output_type": "display_data",
          "data": {
            "text/plain": [
              "<Figure size 640x480 with 2 Axes>"
            ],
            "image/png": "[encoded data removed]"
          },
          "metadata": {}
        }
      ]
    },
    {
      "cell_type": "code",
      "source": [
        "# prompt: Display all the False Positive samples.Could a human recognize them correctly?. Get the index of all FP samples in ascending order. Enter the first index.\n",
        "\n",
        "# Get indices of false positives\n",
        "fp_indices = np.where((y_train_pred == 1) & (y_train_69.values.ravel() == 0))[0]\n",
        "\n",
        "# Display false positive samples\n",
        "fig, axes = plt.subplots(nrows=len(fp_indices) // 5 + 1, ncols=5, figsize=(15, 3 * (len(fp_indices) // 5 + 1)))\n",
        "for i, idx in enumerate(fp_indices):\n",
        "    row = i // 5\n",
        "    col = i % 5\n",
        "    axes[row, col].imshow(x_train_69.iloc[idx].values.reshape(28, 28), cmap='gray')\n",
        "    axes[row, col].set_title(f'{idx} : {y_train_69.values[idx][0]} : {y_train_pred[idx]}')\n",
        "    axes[row, col].axis('off')\n",
        "\n",
        "# Hide any unused subplots\n",
        "for i in range(len(fp_indices), (len(fp_indices) // 5 + 1) * 5):\n",
        "    row = i // 5\n",
        "    col = i % 5\n",
        "    axes[row, col].axis('off')\n",
        "\n",
        "plt.tight_layout()\n",
        "plt.show()\n",
        "\n",
        "# Get indices of false positives in ascending order\n",
        "fp_indices_sorted = np.sort(fp_indices)\n",
        "print(\"Indices of False Positive Samples (Ascending Order):\", fp_indices_sorted)\n",
        "\n",
        "# Print the first index\n",
        "print(\"First Index:\", fp_indices_sorted[0])\n"
      ],
      "metadata": {
        "colab": {
          "base_uri": "https://localhost:8080/",
          "height": 647
        },
        "id": "L0oDGA63SANa",
        "outputId": "7d88362c-f725-4077-8ec0-32903b94e8a0"
      },
      "execution_count": 56,
      "outputs": [
        {
          "output_type": "display_data",
          "data": {
            "text/plain": [
              "<Figure size 1500x600 with 10 Axes>"
            ],
            "image/png": "[encoded data removed]"
          },
          "metadata": {}
        },
        {
          "output_type": "stream",
          "name": "stdout",
          "text": [
            "Indices of False Positive Samples (Ascending Order): [2167 2407 3036 3368 3700 4217 5556 6230]\n",
            "First Index: 2167\n"
          ]
        }
      ]
    },
    {
      "cell_type": "code",
      "source": [
        "# prompt: Load the train subset of '20newsgroups' data.\n",
        "#   Vectorize the data using TfidfVectorizer. Which of the following options represent the shape of the fitted and transformed dataset??\n",
        "\n",
        "from sklearn.datasets import fetch_20newsgroups\n",
        "from sklearn.feature_extraction.text import TfidfVectorizer\n",
        "\n",
        "# Load the train subset of '20newsgroups' data\n",
        "newsgroups_train = fetch_20newsgroups(subset='train')\n",
        "\n",
        "# Vectorize the data using TfidfVectorizer\n",
        "vectorizer = TfidfVectorizer()\n",
        "vectors = vectorizer.fit_transform(newsgroups_train.data)\n",
        "\n",
        "# Print the shape of the fitted and transformed dataset\n",
        "print(vectors.shape)  # Output: (11314, 130107)\n"
      ],
      "metadata": {
        "colab": {
          "base_uri": "https://localhost:8080/"
        },
        "id": "jDlp_zCrTzqL",
        "outputId": "1de75be2-5ae0-4bfc-bcf4-0587bdf4bcfb"
      },
      "execution_count": 57,
      "outputs": [
        {
          "output_type": "stream",
          "name": "stdout",
          "text": [
            "(11314, 130107)\n"
          ]
        }
      ]
    },
    {
      "cell_type": "code",
      "source": [
        "# prompt: Split the training subset of fetch_20newsgroups data into train and validation sets using train_test_split with test_size = 0.3 and random_state = 0.\n",
        "# Use MultinomialNB to train the model.\n",
        "# Compute score on validation set.\n",
        "\n",
        "from sklearn.model_selection import train_test_split\n",
        "from sklearn.naive_bayes import MultinomialNB\n",
        "\n",
        "# Split the data into train and validation sets\n",
        "X_train, X_val, y_train, y_val = train_test_split(\n",
        "    vectors, newsgroups_train.target, test_size=0.3, random_state=0\n",
        ")\n",
        "\n",
        "# Train a Multinomial Naive Bayes model\n",
        "clf = MultinomialNB()\n",
        "clf.fit(X_train, y_train)\n",
        "\n",
        "# Compute the score on the validation set\n",
        "score = clf.score(X_val, y_val)\n",
        "print(\"Validation set score:\", score)\n"
      ],
      "metadata": {
        "colab": {
          "base_uri": "https://localhost:8080/"
        },
        "id": "sa3htJx3UFka",
        "outputId": "c459cfbf-d6a8-4b14-c456-e1630e990635"
      },
      "execution_count": 58,
      "outputs": [
        {
          "output_type": "stream",
          "name": "stdout",
          "text": [
            "Validation set score: 0.8427098674521355\n"
          ]
        }
      ]
    },
    {
      "cell_type": "code",
      "source": [
        "# prompt: Step 1: Download the dataset using following link: (https://drive.google.com/file/d/1v-uxWEgTI0GDCOTZOX3shUMkTf1a_CL7/view?usp=sharing)\n",
        "# Step 2: Import the data in google colab using pd.read_csv().\n",
        "\n",
        "# !gdown --id 1v-uxWEgTI0GDCOTZOX3shUMkTf1a_CL7\n",
        "\n",
        "import pandas as pd\n",
        "df = pd.read_csv('data_for_large_scale.csv')\n",
        "df.head()"
      ],
      "metadata": {
        "colab": {
          "base_uri": "https://localhost:8080/",
          "height": 206
        },
        "id": "Koz-wLazdpZp",
        "outputId": "b89fdf24-1c65-4afb-df1b-f29333913f15"
      },
      "execution_count": 59,
      "outputs": [
        {
          "output_type": "execute_result",
          "data": {
            "text/plain": [
              "   Feature-1  Feature-2  Feature-3  Feature-4  Feature-5  Feature-6  \\\n",
              "0     -1.580     1.0500      1.060     -0.440      0.451    -0.0348   \n",
              "1     -0.832    -0.8660     -1.340      0.138      1.180     0.7330   \n",
              "2     -0.237     2.0900     -3.930      0.296      0.352    -0.5010   \n",
              "3     -1.170    -1.1300     -1.090      1.120      0.312     0.1830   \n",
              "4      0.260    -0.0273      0.925     -1.150     -1.390     0.0251   \n",
              "\n",
              "   Feature-7  Feature-8  Feature-9  Feature-10  Target  \n",
              "0      0.643     0.2650      0.268      -0.851    84.7  \n",
              "1     -1.410     0.1350     -0.088      -1.550  -211.0  \n",
              "2      0.961    -0.0287      1.820       0.938   -96.9  \n",
              "3      0.448    -0.8190     -1.010      -1.080  -152.0  \n",
              "4      0.627     0.0950     -0.280      -0.848   -57.7  "
            ],
            "text/html": [
              "\n",
              "  <div id=\"df-9e286f54-b8d9-446a-b7ec-4acf13214cb1\" class=\"colab-df-container\">\n",
              "    <div>\n",
              "<style scoped>\n",
              "    .dataframe tbody tr th:only-of-type {\n",
              "        vertical-align: middle;\n",
              "    }\n",
              "\n",
              "    .dataframe tbody tr th {\n",
              "        vertical-align: top;\n",
              "    }\n",
              "\n",
              "    .dataframe thead th {\n",
              "        text-align: right;\n",
              "    }\n",
              "</style>\n",
              "<table border=\"1\" class=\"dataframe\">\n",
              "  <thead>\n",
              "    <tr style=\"text-align: right;\">\n",
              "      <th></th>\n",
              "      <th>Feature-1</th>\n",
              "      <th>Feature-2</th>\n",
              "      <th>Feature-3</th>\n",
              "      <th>Feature-4</th>\n",
              "      <th>Feature-5</th>\n",
              "      <th>Feature-6</th>\n",
              "      <th>Feature-7</th>\n",
              "      <th>Feature-8</th>\n",
              "      <th>Feature-9</th>\n",
              "      <th>Feature-10</th>\n",
              "      <th>Target</th>\n",
              "    </tr>\n",
              "  </thead>\n",
              "  <tbody>\n",
              "    <tr>\n",
              "      <th>0</th>\n",
              "      <td>-1.580</td>\n",
              "      <td>1.0500</td>\n",
              "      <td>1.060</td>\n",
              "      <td>-0.440</td>\n",
              "      <td>0.451</td>\n",
              "      <td>-0.0348</td>\n",
              "      <td>0.643</td>\n",
              "      <td>0.2650</td>\n",
              "      <td>0.268</td>\n",
              "      <td>-0.851</td>\n",
              "      <td>84.7</td>\n",
              "    </tr>\n",
              "    <tr>\n",
              "      <th>1</th>\n",
              "      <td>-0.832</td>\n",
              "      <td>-0.8660</td>\n",
              "      <td>-1.340</td>\n",
              "      <td>0.138</td>\n",
              "      <td>1.180</td>\n",
              "      <td>0.7330</td>\n",
              "      <td>-1.410</td>\n",
              "      <td>0.1350</td>\n",
              "      <td>-0.088</td>\n",
              "      <td>-1.550</td>\n",
              "      <td>-211.0</td>\n",
              "    </tr>\n",
              "    <tr>\n",
              "      <th>2</th>\n",
              "      <td>-0.237</td>\n",
              "      <td>2.0900</td>\n",
              "      <td>-3.930</td>\n",
              "      <td>0.296</td>\n",
              "      <td>0.352</td>\n",
              "      <td>-0.5010</td>\n",
              "      <td>0.961</td>\n",
              "      <td>-0.0287</td>\n",
              "      <td>1.820</td>\n",
              "      <td>0.938</td>\n",
              "      <td>-96.9</td>\n",
              "    </tr>\n",
              "    <tr>\n",
              "      <th>3</th>\n",
              "      <td>-1.170</td>\n",
              "      <td>-1.1300</td>\n",
              "      <td>-1.090</td>\n",
              "      <td>1.120</td>\n",
              "      <td>0.312</td>\n",
              "      <td>0.1830</td>\n",
              "      <td>0.448</td>\n",
              "      <td>-0.8190</td>\n",
              "      <td>-1.010</td>\n",
              "      <td>-1.080</td>\n",
              "      <td>-152.0</td>\n",
              "    </tr>\n",
              "    <tr>\n",
              "      <th>4</th>\n",
              "      <td>0.260</td>\n",
              "      <td>-0.0273</td>\n",
              "      <td>0.925</td>\n",
              "      <td>-1.150</td>\n",
              "      <td>-1.390</td>\n",
              "      <td>0.0251</td>\n",
              "      <td>0.627</td>\n",
              "      <td>0.0950</td>\n",
              "      <td>-0.280</td>\n",
              "      <td>-0.848</td>\n",
              "      <td>-57.7</td>\n",
              "    </tr>\n",
              "  </tbody>\n",
              "</table>\n",
              "</div>\n",
              "    <div class=\"colab-df-buttons\">\n",
              "\n",
              "  <div class=\"colab-df-container\">\n",
              "    <button class=\"colab-df-convert\" onclick=\"convertToInteractive('df-9e286f54-b8d9-446a-b7ec-4acf13214cb1')\"\n",
              "            title=\"Convert this dataframe to an interactive table.\"\n",
              "            style=\"display:none;\">\n",
              "\n",
              "  <svg xmlns=\"http://www.w3.org/2000/svg\" height=\"24px\" viewBox=\"0 -960 960 960\">\n",
              "    <path d=\"M120-120v-720h720v720H120Zm60-500h600v-160H180v160Zm220 220h160v-160H400v160Zm0 220h160v-160H400v160ZM180-400h160v-160H180v160Zm440 0h160v-160H620v160ZM180-180h160v-160H180v160Zm440 0h160v-160H620v160Z\"/>\n",
              "  </svg>\n",
              "    </button>\n",
              "\n",
              "  <style>\n",
              "    .colab-df-container {\n",
              "      display:flex;\n",
              "      gap: 12px;\n",
              "    }\n",
              "\n",
              "    .colab-df-convert {\n",
              "      background-color: #E8F0FE;\n",
              "      border: none;\n",
              "      border-radius: 50%;\n",
              "      cursor: pointer;\n",
              "      display: none;\n",
              "      fill: #1967D2;\n",
              "      height: 32px;\n",
              "      padding: 0 0 0 0;\n",
              "      width: 32px;\n",
              "    }\n",
              "\n",
              "    .colab-df-convert:hover {\n",
              "      background-color: #E2EBFA;\n",
              "      box-shadow: 0px 1px 2px rgba(60, 64, 67, 0.3), 0px 1px 3px 1px rgba(60, 64, 67, 0.15);\n",
              "      fill: #174EA6;\n",
              "    }\n",
              "\n",
              "    .colab-df-buttons div {\n",
              "      margin-bottom: 4px;\n",
              "    }\n",
              "\n",
              "    [theme=dark] .colab-df-convert {\n",
              "      background-color: #3B4455;\n",
              "      fill: #D2E3FC;\n",
              "    }\n",
              "\n",
              "    [theme=dark] .colab-df-convert:hover {\n",
              "      background-color: #434B5C;\n",
              "      box-shadow: 0px 1px 3px 1px rgba(0, 0, 0, 0.15);\n",
              "      filter: drop-shadow(0px 1px 2px rgba(0, 0, 0, 0.3));\n",
              "      fill: #FFFFFF;\n",
              "    }\n",
              "  </style>\n",
              "\n",
              "    <script>\n",
              "      const buttonEl =\n",
              "        document.querySelector('#df-9e286f54-b8d9-446a-b7ec-4acf13214cb1 button.colab-df-convert');\n",
              "      buttonEl.style.display =\n",
              "        google.colab.kernel.accessAllowed ? 'block' : 'none';\n",
              "\n",
              "      async function convertToInteractive(key) {\n",
              "        const element = document.querySelector('#df-9e286f54-b8d9-446a-b7ec-4acf13214cb1');\n",
              "        const dataTable =\n",
              "          await google.colab.kernel.invokeFunction('convertToInteractive',\n",
              "                                                    [key], {});\n",
              "        if (!dataTable) return;\n",
              "\n",
              "        const docLinkHtml = 'Like what you see? Visit the ' +\n",
              "          '<a target=\"_blank\" href=https://colab.research.google.com/notebooks/data_table.ipynb>data table notebook</a>'\n",
              "          + ' to learn more about interactive tables.';\n",
              "        element.innerHTML = '';\n",
              "        dataTable['output_type'] = 'display_data';\n",
              "        await google.colab.output.renderOutput(dataTable, element);\n",
              "        const docLink = document.createElement('div');\n",
              "        docLink.innerHTML = docLinkHtml;\n",
              "        element.appendChild(docLink);\n",
              "      }\n",
              "    </script>\n",
              "  </div>\n",
              "\n",
              "\n",
              "<div id=\"df-dc433c97-e4b7-4f82-8d01-6e0939effe00\">\n",
              "  <button class=\"colab-df-quickchart\" onclick=\"quickchart('df-dc433c97-e4b7-4f82-8d01-6e0939effe00')\"\n",
              "            title=\"Suggest charts\"\n",
              "            style=\"display:none;\">\n",
              "\n",
              "<svg xmlns=\"http://www.w3.org/2000/svg\" height=\"24px\"viewBox=\"0 0 24 24\"\n",
              "     width=\"24px\">\n",
              "    <g>\n",
              "        <path d=\"M19 3H5c-1.1 0-2 .9-2 2v14c0 1.1.9 2 2 2h14c1.1 0 2-.9 2-2V5c0-1.1-.9-2-2-2zM9 17H7v-7h2v7zm4 0h-2V7h2v10zm4 0h-2v-4h2v4z\"/>\n",
              "    </g>\n",
              "</svg>\n",
              "  </button>\n",
              "\n",
              "<style>\n",
              "  .colab-df-quickchart {\n",
              "      --bg-color: #E8F0FE;\n",
              "      --fill-color: #1967D2;\n",
              "      --hover-bg-color: #E2EBFA;\n",
              "      --hover-fill-color: #174EA6;\n",
              "      --disabled-fill-color: #AAA;\n",
              "      --disabled-bg-color: #DDD;\n",
              "  }\n",
              "\n",
              "  [theme=dark] .colab-df-quickchart {\n",
              "      --bg-color: #3B4455;\n",
              "      --fill-color: #D2E3FC;\n",
              "      --hover-bg-color: #434B5C;\n",
              "      --hover-fill-color: #FFFFFF;\n",
              "      --disabled-bg-color: #3B4455;\n",
              "      --disabled-fill-color: #666;\n",
              "  }\n",
              "\n",
              "  .colab-df-quickchart {\n",
              "    background-color: var(--bg-color);\n",
              "    border: none;\n",
              "    border-radius: 50%;\n",
              "    cursor: pointer;\n",
              "    display: none;\n",
              "    fill: var(--fill-color);\n",
              "    height: 32px;\n",
              "    padding: 0;\n",
              "    width: 32px;\n",
              "  }\n",
              "\n",
              "  .colab-df-quickchart:hover {\n",
              "    background-color: var(--hover-bg-color);\n",
              "    box-shadow: 0 1px 2px rgba(60, 64, 67, 0.3), 0 1px 3px 1px rgba(60, 64, 67, 0.15);\n",
              "    fill: var(--button-hover-fill-color);\n",
              "  }\n",
              "\n",
              "  .colab-df-quickchart-complete:disabled,\n",
              "  .colab-df-quickchart-complete:disabled:hover {\n",
              "    background-color: var(--disabled-bg-color);\n",
              "    fill: var(--disabled-fill-color);\n",
              "    box-shadow: none;\n",
              "  }\n",
              "\n",
              "  .colab-df-spinner {\n",
              "    border: 2px solid var(--fill-color);\n",
              "    border-color: transparent;\n",
              "    border-bottom-color: var(--fill-color);\n",
              "    animation:\n",
              "      spin 1s steps(1) infinite;\n",
              "  }\n",
              "\n",
              "  @keyframes spin {\n",
              "    0% {\n",
              "      border-color: transparent;\n",
              "      border-bottom-color: var(--fill-color);\n",
              "      border-left-color: var(--fill-color);\n",
              "    }\n",
              "    20% {\n",
              "      border-color: transparent;\n",
              "      border-left-color: var(--fill-color);\n",
              "      border-top-color: var(--fill-color);\n",
              "    }\n",
              "    30% {\n",
              "      border-color: transparent;\n",
              "      border-left-color: var(--fill-color);\n",
              "      border-top-color: var(--fill-color);\n",
              "      border-right-color: var(--fill-color);\n",
              "    }\n",
              "    40% {\n",
              "      border-color: transparent;\n",
              "      border-right-color: var(--fill-color);\n",
              "      border-top-color: var(--fill-color);\n",
              "    }\n",
              "    60% {\n",
              "      border-color: transparent;\n",
              "      border-right-color: var(--fill-color);\n",
              "    }\n",
              "    80% {\n",
              "      border-color: transparent;\n",
              "      border-right-color: var(--fill-color);\n",
              "      border-bottom-color: var(--fill-color);\n",
              "    }\n",
              "    90% {\n",
              "      border-color: transparent;\n",
              "      border-bottom-color: var(--fill-color);\n",
              "    }\n",
              "  }\n",
              "</style>\n",
              "\n",
              "  <script>\n",
              "    async function quickchart(key) {\n",
              "      const quickchartButtonEl =\n",
              "        document.querySelector('#' + key + ' button');\n",
              "      quickchartButtonEl.disabled = true;  // To prevent multiple clicks.\n",
              "      quickchartButtonEl.classList.add('colab-df-spinner');\n",
              "      try {\n",
              "        const charts = await google.colab.kernel.invokeFunction(\n",
              "            'suggestCharts', [key], {});\n",
              "      } catch (error) {\n",
              "        console.error('Error during call to suggestCharts:', error);\n",
              "      }\n",
              "      quickchartButtonEl.classList.remove('colab-df-spinner');\n",
              "      quickchartButtonEl.classList.add('colab-df-quickchart-complete');\n",
              "    }\n",
              "    (() => {\n",
              "      let quickchartButtonEl =\n",
              "        document.querySelector('#df-dc433c97-e4b7-4f82-8d01-6e0939effe00 button');\n",
              "      quickchartButtonEl.style.display =\n",
              "        google.colab.kernel.accessAllowed ? 'block' : 'none';\n",
              "    })();\n",
              "  </script>\n",
              "</div>\n",
              "\n",
              "    </div>\n",
              "  </div>\n"
            ],
            "application/vnd.google.colaboratory.intrinsic+json": {
              "type": "dataframe",
              "variable_name": "df",
              "summary": "{\n  \"name\": \"df\",\n  \"rows\": 29819,\n  \"fields\": [\n    {\n      \"column\": \"Feature-1\",\n      \"properties\": {\n        \"dtype\": \"number\",\n        \"std\": 1.007027832083126,\n        \"min\": -3.79,\n        \"max\": 3.77,\n        \"num_unique_values\": 3729,\n        \"samples\": [\n          0.791,\n          0.0952,\n          0.0889\n        ],\n        \"semantic_type\": \"\",\n        \"description\": \"\"\n      }\n    },\n    {\n      \"column\": \"Feature-2\",\n      \"properties\": {\n        \"dtype\": \"number\",\n        \"std\": 0.9945723427842265,\n        \"min\": -3.86,\n        \"max\": 4.19,\n        \"num_unique_values\": 3713,\n        \"samples\": [\n          0.0337,\n          0.49,\n          0.996\n        ],\n        \"semantic_type\": \"\",\n        \"description\": \"\"\n      }\n    },\n    {\n      \"column\": \"Feature-3\",\n      \"properties\": {\n        \"dtype\": \"number\",\n        \"std\": 0.9964018331954403,\n        \"min\": -3.93,\n        \"max\": 4.03,\n        \"num_unique_values\": 3748,\n        \"samples\": [\n          -0.0675,\n          0.015,\n          -0.941\n        ],\n        \"semantic_type\": \"\",\n        \"description\": \"\"\n      }\n    },\n    {\n      \"column\": \"Feature-4\",\n      \"properties\": {\n        \"dtype\": \"number\",\n        \"std\": 1.0005379803994234,\n        \"min\": -3.87,\n        \"max\": 3.89,\n        \"num_unique_values\": 3776,\n        \"samples\": [\n          0.00662,\n          -0.627,\n          0.0646\n        ],\n        \"semantic_type\": \"\",\n        \"description\": \"\"\n      }\n    },\n    {\n      \"column\": \"Feature-5\",\n      \"properties\": {\n        \"dtype\": \"number\",\n        \"std\": 1.001467270138699,\n        \"min\": -4.2,\n        \"max\": 3.7,\n        \"num_unique_values\": 3726,\n        \"samples\": [\n          0.0613,\n          2.6,\n          -0.0831\n        ],\n        \"semantic_type\": \"\",\n        \"description\": \"\"\n      }\n    },\n    {\n      \"column\": \"Feature-6\",\n      \"properties\": {\n        \"dtype\": \"number\",\n        \"std\": 1.0026415458728901,\n        \"min\": -3.81,\n        \"max\": 3.67,\n        \"num_unique_values\": 3691,\n        \"samples\": [\n          0.201,\n          0.00545,\n          -0.947\n        ],\n        \"semantic_type\": \"\",\n        \"description\": \"\"\n      }\n    },\n    {\n      \"column\": \"Feature-7\",\n      \"properties\": {\n        \"dtype\": \"number\",\n        \"std\": 0.9941194869357485,\n        \"min\": -5.19,\n        \"max\": 3.75,\n        \"num_unique_values\": 3743,\n        \"samples\": [\n          -2.89,\n          0.443,\n          -1.61\n        ],\n        \"semantic_type\": \"\",\n        \"description\": \"\"\n      }\n    },\n    {\n      \"column\": \"Feature-8\",\n      \"properties\": {\n        \"dtype\": \"number\",\n        \"std\": 1.0037484990054217,\n        \"min\": -3.87,\n        \"max\": 4.28,\n        \"num_unique_values\": 3722,\n        \"samples\": [\n          -0.169,\n          -0.0697,\n          -0.766\n        ],\n        \"semantic_type\": \"\",\n        \"description\": \"\"\n      }\n    },\n    {\n      \"column\": \"Feature-9\",\n      \"properties\": {\n        \"dtype\": \"number\",\n        \"std\": 0.9984783110081434,\n        \"min\": -4.01,\n        \"max\": 4.19,\n        \"num_unique_values\": 3738,\n        \"samples\": [\n          -0.977,\n          -0.693,\n          -1.32\n        ],\n        \"semantic_type\": \"\",\n        \"description\": \"\"\n      }\n    },\n    {\n      \"column\": \"Feature-10\",\n      \"properties\": {\n        \"dtype\": \"number\",\n        \"std\": 1.004688026649698,\n        \"min\": -8.0,\n        \"max\": 4.26,\n        \"num_unique_values\": 3719,\n        \"samples\": [\n          -0.554,\n          0.0661,\n          -0.96\n        ],\n        \"semantic_type\": \"\",\n        \"description\": \"\"\n      }\n    },\n    {\n      \"column\": \"Target\",\n      \"properties\": {\n        \"dtype\": \"number\",\n        \"std\": 194.05551296198283,\n        \"min\": -776.0,\n        \"max\": 722.0,\n        \"num_unique_values\": 3718,\n        \"samples\": [\n          58.4,\n          494.0,\n          4.82\n        ],\n        \"semantic_type\": \"\",\n        \"description\": \"\"\n      }\n    }\n  ]\n}"
            }
          },
          "metadata": {},
          "execution_count": 59
        }
      ]
    },
    {
      "cell_type": "code",
      "source": [
        "# prompt: Step 3: Seperate features and target data in seperate variable X and Y.\n",
        "# Step 4: Convert dataframe X and series y into array and save it in variable X_array,y_array.\n",
        "\n",
        "# Step 3: Separate features and target data\n",
        "X = df.drop('Target', axis=1)  # Assuming 'Target' is the target column\n",
        "y = df['Target']\n",
        "\n",
        "# Step 4: Convert to arrays\n",
        "X_array = X.to_numpy()\n",
        "y_array = y.to_numpy()\n"
      ],
      "metadata": {
        "id": "TaYYrzx6eKqp"
      },
      "execution_count": 60,
      "outputs": []
    },
    {
      "cell_type": "code",
      "source": [
        "# prompt: Step 5: Split the dataset using train_test_split. (Keep parameter test_size=0.3 and random_state=10).\n",
        "\n",
        "# Step 5: Split the dataset\n",
        "from sklearn.model_selection import train_test_split\n",
        "X_train, X_test, y_train, y_test = train_test_split(X_array, y_array, test_size=0.3, random_state=10)\n"
      ],
      "metadata": {
        "id": "-Dfh6kPMeWd_"
      },
      "execution_count": 61,
      "outputs": []
    },
    {
      "cell_type": "code",
      "source": [
        "X_train.shape"
      ],
      "metadata": {
        "colab": {
          "base_uri": "https://localhost:8080/"
        },
        "id": "8-Jg7kpOe0LN",
        "outputId": "de5fa6dc-5e3a-4ca0-83e3-701a7fa81f9f"
      },
      "execution_count": 63,
      "outputs": [
        {
          "output_type": "execute_result",
          "data": {
            "text/plain": [
              "(20873, 10)"
            ]
          },
          "metadata": {},
          "execution_count": 63
        }
      ]
    },
    {
      "cell_type": "code",
      "source": [
        "import numpy as np\n",
        "\n",
        "# Assuming 'data' is the original dataset with shape (20873, 10)\n",
        "# Truncate the dataset to the largest multiple of 90\n",
        "truncated_X = X_train[:20790]\n",
        "truncated_y = X_train[:20790]\n",
        "# Reshape the truncated dataset\n",
        "reshaped_X = truncated_X.reshape(231, 90, 10)\n",
        "reshaped_y = truncated_y.repeat(90).reshape(-1, 90)\n",
        "\n",
        "# Step 7: Use SGDRegressor and partial_fit\n",
        "from sklearn.linear_model import SGDRegressor\n",
        "model = SGDRegressor(random_state=10)\n",
        "\n",
        "for i in range(reshaped_X.shape[0]):\n",
        "  model.partial_fit(reshaped_X[i, :], reshaped_y[i, :])\n",
        "  print(f\"{i+1} : {model.coef_}\")\n"
      ],
      "metadata": {
        "colab": {
          "base_uri": "https://localhost:8080/"
        },
        "id": "uCqXVJgRegrr",
        "outputId": "708700f2-fe50-45c7-9b0a-fb935787f5e4"
      },
      "execution_count": 77,
      "outputs": [
        {
          "output_type": "stream",
          "name": "stdout",
          "text": [
            "1 : [ 5.87132903e-03 -1.97174108e-02 -9.61664773e-03 -2.12898379e-02\n",
            "  1.16455707e-02  1.84431036e-03 -1.03047283e-02 -8.56238283e-03\n",
            "  6.02962038e-03 -4.13796565e-05]\n",
            "2 : [ 0.00324376  0.00067042 -0.0240119  -0.01057843  0.00739469 -0.00719548\n",
            " -0.01305265 -0.01257749 -0.00799803  0.00154504]\n",
            "3 : [-0.01488806  0.00020798 -0.03133506 -0.01833719  0.01497344  0.00446667\n",
            "  0.00508382 -0.02610457  0.01066002 -0.02565855]\n",
            "4 : [-0.01458674 -0.00852115 -0.02776549 -0.0048743   0.03836044 -0.00558213\n",
            "  0.0198646  -0.0392318   0.01919506 -0.02108132]\n",
            "5 : [-0.05355567 -0.00037619 -0.06255873  0.03067843  0.0303351  -0.04908794\n",
            "  0.05317001 -0.00396933 -0.02008374 -0.03482417]\n",
            "6 : [-0.04194713  0.00494501 -0.05765037  0.02810145  0.03579807 -0.04650939\n",
            "  0.03504326 -0.00952987 -0.01933694 -0.03238986]\n",
            "7 : [-0.03745988 -0.00093884 -0.04716823  0.02230983  0.02878395 -0.03938874\n",
            "  0.03444726 -0.01027837 -0.01768383 -0.02392856]\n",
            "8 : [-0.04063793 -0.00681823 -0.0402352   0.02299255  0.00070876 -0.02918414\n",
            "  0.01685709  0.00831874  0.02045853 -0.05383912]\n",
            "9 : [-0.04555359 -0.00688616 -0.03976766  0.0197227  -0.00511934 -0.01705574\n",
            "  0.01062174  0.01623185  0.0241437  -0.04971549]\n",
            "10 : [-4.59090504e-02  2.40052246e-03 -4.34594109e-02  1.99119684e-02\n",
            " -5.87163568e-03 -4.26166758e-03  1.53206695e-05  1.72484693e-02\n",
            "  1.70285303e-02 -3.38462320e-02]\n",
            "11 : [-0.02641804 -0.01120744 -0.03525192  0.02953879 -0.0247073   0.00812749\n",
            " -0.0007447  -0.00869972  0.0100936  -0.03732959]\n",
            "12 : [-0.01966234 -0.01318402 -0.05904679  0.03649202 -0.01457977  0.00596707\n",
            "  0.0037468  -0.01406781  0.00953629 -0.01201984]\n",
            "13 : [-0.00062208 -0.00992123 -0.09334523  0.02993049 -0.05370959  0.00807874\n",
            " -0.02613703 -0.03251761  0.01992998 -0.00772643]\n",
            "14 : [-0.00966164  0.01190428 -0.08474843  0.03659451 -0.05395002  0.00854662\n",
            " -0.02144125 -0.04150168  0.00710242  0.00302651]\n",
            "15 : [-0.00924757  0.01282262 -0.06044989  0.02535059 -0.05821422 -0.0051771\n",
            " -0.02518737 -0.04334858 -0.00291288 -0.01003514]\n",
            "16 : [-0.01597607  0.01178251 -0.05337331  0.02395499 -0.04251957  0.01200836\n",
            " -0.0381899  -0.03690405 -0.00498862 -0.00746877]\n",
            "17 : [-0.01049422  0.0045693  -0.04593774  0.02190176 -0.03655702  0.01137112\n",
            " -0.03461808 -0.03423063 -0.00042988  0.00497858]\n",
            "18 : [ 0.00416602  0.01021181 -0.03565883  0.02073711 -0.03533897  0.03595562\n",
            " -0.04859167 -0.01495567  0.01075213  0.00899965]\n",
            "19 : [-0.00232661  0.00883747 -0.01683877  0.02316758 -0.02698931  0.03539404\n",
            " -0.05783393 -0.00710249  0.00540534  0.01836107]\n",
            "20 : [ 0.01338212  0.04448482  0.00023445  0.00368367 -0.01062685  0.01817317\n",
            " -0.04651893 -0.00675278 -0.00260227 -0.00493697]\n",
            "21 : [ 0.01258325  0.03531771 -0.00498216  0.00059195 -0.00944423  0.01315955\n",
            " -0.03591157 -0.00760756  0.00309178 -0.00088731]\n",
            "22 : [ 0.0110922   0.02740459 -0.00478384 -0.00576546 -0.01290841  0.00938629\n",
            " -0.03129495 -0.00777061 -0.00016153  0.00090972]\n",
            "23 : [ 0.01417582  0.02265385 -0.02076682  0.01041076  0.00788524  0.01838756\n",
            " -0.02930081 -0.01437538  0.00628824  0.00256824]\n",
            "24 : [ 0.00255481  0.03211255 -0.01321767  0.01602916  0.00430599  0.01864963\n",
            " -0.04127587 -0.01405819  0.00176301 -0.00070344]\n",
            "25 : [-0.00484487  0.02464774 -0.00778222  0.03691759  0.00076906 -0.01527809\n",
            " -0.05386555 -0.06378478  0.00344953 -0.01385517]\n",
            "26 : [-0.00735014  0.02957394 -0.02545071  0.02960738  0.01643447 -0.00174741\n",
            " -0.03104119 -0.04297891  0.00782796 -0.03476767]\n",
            "27 : [-0.00847265  0.02550159 -0.02834703  0.03150273  0.01784563 -0.0018745\n",
            " -0.01988938 -0.03112795  0.0042321  -0.03141625]\n",
            "28 : [-0.00500238  0.02106264 -0.0248469   0.02717144  0.01474302 -0.00182453\n",
            " -0.01689749 -0.02999074  0.00790611 -0.0227945 ]\n",
            "29 : [ 0.01360313  0.02185322 -0.00273313  0.04205982 -0.00813588 -0.00627103\n",
            "  0.01586917 -0.02485395  0.02625788  0.00022092]\n",
            "30 : [ 0.01457994  0.01977323  0.00198878  0.0423963  -0.0106343  -0.00557733\n",
            "  0.01501747 -0.02216886  0.02707321  0.00500681]\n",
            "31 : [ 0.01871643  0.0284198   0.00702982  0.02301105 -0.00333495 -0.02143646\n",
            "  0.0128814  -0.01086211  0.01208483  0.01071755]\n",
            "32 : [ 0.01144846  0.02055381  0.0175532   0.02976088 -0.03144898 -0.019315\n",
            "  0.00600595 -0.02951334 -0.00621585  0.03627433]\n",
            "33 : [ 0.00935496  0.01521915  0.01738642  0.02626915 -0.02736782 -0.01638747\n",
            "  0.00613274 -0.02472438 -0.00445993  0.0326716 ]\n",
            "34 : [ 0.00033456  0.02429101  0.02215996  0.00642389 -0.01639484 -0.02166608\n",
            "  0.00656907 -0.01690145 -0.02136709  0.04173671]\n",
            "35 : [ 0.01235182  0.0293465   0.04970868  0.01918456 -0.020089   -0.00234358\n",
            " -0.01356943 -0.08140426 -0.02589026  0.02725659]\n",
            "36 : [ 0.01069034  0.02361419  0.0553416   0.01851998 -0.00439581 -0.00421954\n",
            " -0.01994414 -0.05623185 -0.03509829  0.0104123 ]\n",
            "37 : [ 0.00886495  0.02041429  0.0493115   0.01637856 -0.00416174 -0.00342954\n",
            " -0.01819977 -0.04937728 -0.02954459  0.00890186]\n",
            "38 : [ 0.00703947  0.01843458  0.04780523  0.01465777 -0.00553839  0.0019861\n",
            " -0.00998251 -0.04990474 -0.02640523  0.002741  ]\n",
            "39 : [-0.03798796  0.00626774  0.07328072 -0.0030095  -0.04414641  0.05760498\n",
            " -0.02522373 -0.05613359  0.01119591  0.03502314]\n",
            "40 : [-0.03507774  0.01024891  0.06374236 -0.00278211 -0.04200208  0.0503527\n",
            " -0.01669916 -0.04949252  0.00544301  0.02976698]\n",
            "41 : [-0.02792459  0.00287744  0.0566853  -0.0013635  -0.02783107  0.03304018\n",
            " -0.02158259 -0.03979822  0.00389758  0.02534366]\n",
            "42 : [-0.02681074  0.00426587  0.05502077  0.00330768 -0.01495169  0.03397295\n",
            " -0.02299855 -0.03273071 -0.0094774   0.02392066]\n",
            "43 : [-0.03258291 -0.00965932  0.04876006  0.00068527 -0.02455049  0.02263957\n",
            " -0.01664643 -0.0114753  -0.0182688   0.01076138]\n",
            "44 : [ 0.02900764 -0.00805322  0.01700897  0.01396026 -0.03675407 -0.02033588\n",
            " -0.0231466   0.02502101  0.02566986 -0.02785127]\n",
            "45 : [ 0.02193975 -0.00523323  0.01031949  0.01457248 -0.03296694 -0.01441809\n",
            " -0.02653426  0.02264439  0.02340418 -0.02478595]\n",
            "46 : [ 0.02144923 -0.00375328  0.00965255  0.01232832 -0.02783788 -0.01280028\n",
            " -0.02471898  0.0207127   0.01996229 -0.02238031]\n",
            "47 : [-8.14173380e-05  1.07561760e-02  3.07624501e-02  2.87210029e-02\n",
            " -4.14980579e-02 -4.76847955e-03 -2.83657254e-02  3.25779427e-02\n",
            "  2.33441575e-02 -2.31740980e-02]\n",
            "48 : [ 0.01507858  0.02686068  0.04800174  0.00670726 -0.06599833 -0.01067807\n",
            " -0.03318301  0.02678309 -0.01701343 -0.00039695]\n",
            "49 : [ 0.00218328  0.00269678  0.05196832 -0.00635113 -0.03081892  0.00488963\n",
            " -0.01091207  0.02114842 -0.02225241 -0.02328415]\n",
            "50 : [ 0.00920186  0.00807592  0.04889347 -0.01600251 -0.01681077 -0.00591635\n",
            " -0.01423846  0.01968673 -0.01282338 -0.01749261]\n",
            "51 : [ 0.00452462 -0.00665715  0.04338734  0.00067619 -0.02344441 -0.0272752\n",
            " -0.00298848  0.02482478 -0.01308541 -0.0320929 ]\n",
            "52 : [ 0.01178974  0.00363972  0.04609897 -0.00220711 -0.04962482 -0.00837139\n",
            "  0.00152009  0.02340458 -0.02625866 -0.02070481]\n",
            "53 : [ 0.00352517  0.01357481  0.05505058 -0.00617839 -0.04376393  0.01516984\n",
            "  0.01368491  0.06890514 -0.06422556 -0.01115322]\n",
            "54 : [ 0.00850559  0.00717619  0.03708182  0.00665814 -0.05740805  0.02337228\n",
            "  0.01132568  0.0556879  -0.03872384  0.00117169]\n",
            "55 : [ 0.03273564  0.0157104   0.04426667  0.03171813 -0.057357    0.02068183\n",
            "  0.01234855  0.05356291 -0.05264072 -0.01571518]\n",
            "56 : [ 0.03824634  0.00489464  0.01942131 -0.00639755 -0.02975705  0.01633108\n",
            " -0.04335414  0.0379582  -0.06466094 -0.01552604]\n",
            "57 : [ 0.0262181   0.00984739  0.00454734 -0.01199378 -0.0288502   0.02124343\n",
            " -0.03061579  0.02211786 -0.0592186  -0.01430013]\n",
            "58 : [ 0.01183262 -0.00515001  0.00246988 -0.04647068 -0.02541316  0.06068733\n",
            " -0.02090403 -0.00140123 -0.04555502 -0.01730221]\n",
            "59 : [ 0.00974158 -0.00510509  0.0003303  -0.04049973 -0.02184046  0.0540181\n",
            " -0.0183303  -0.0035221  -0.04147402 -0.01518424]\n",
            "60 : [ 0.00837265 -0.00451458 -0.00077392 -0.03579747 -0.01874357  0.04703986\n",
            " -0.01443225 -0.00305764 -0.03707975 -0.01458663]\n",
            "61 : [-0.00947667 -0.01152571  0.00837632 -0.03936173 -0.03054135  0.04959139\n",
            " -0.01171981 -0.02202175 -0.05504165 -0.01030294]\n",
            "62 : [-0.01433669 -0.0034716   0.00189304 -0.0448447  -0.02206345  0.04951803\n",
            " -0.01926996 -0.01823375 -0.04172152  0.00220348]\n",
            "63 : [-0.02566864  0.0113698   0.00732728 -0.06355127 -0.0461807   0.04228832\n",
            " -0.0313721   0.00337641 -0.02198951 -0.00778479]\n",
            "64 : [-0.02212626  0.01235187  0.006456   -0.05657756 -0.03997603  0.0386381\n",
            " -0.03112727 -0.00386432 -0.0234402  -0.01776305]\n",
            "65 : [ 0.00075692  0.01265357  0.00132146 -0.03952133 -0.02466966  0.02656246\n",
            " -0.02523109  0.01002198 -0.02081839 -0.0344929 ]\n",
            "66 : [ 0.00097163  0.01134931  0.00087974 -0.03222067 -0.02247508  0.02441814\n",
            " -0.02113724  0.00985472 -0.01970377 -0.03147552]\n",
            "67 : [ 0.00604028  0.00200097  0.00023158 -0.03168885 -0.02111831  0.02332403\n",
            " -0.02096999  0.0137755  -0.01159461 -0.02977712]\n",
            "68 : [ 0.00745133 -0.00129867  0.00044793 -0.03461009 -0.0009354   0.01595948\n",
            " -0.00970915  0.02837148 -0.0092394  -0.03438429]\n",
            "69 : [ 0.01794829 -0.01815497  0.00519604 -0.03791849  0.01541179  0.02116152\n",
            " -0.01476544  0.02081837 -0.00262199 -0.03337263]\n",
            "70 : [ 0.02949658 -0.02832272 -0.00798219 -0.02799196  0.00555192  0.02198498\n",
            " -0.00396129 -0.00076437 -0.00670214 -0.02589461]\n",
            "71 : [ 0.01749316  0.00769847 -0.00655013  0.01068595 -0.00436486 -0.00064386\n",
            "  0.01032513  0.05843929 -0.03634792 -0.05103898]\n",
            "72 : [ 0.01119092 -0.00180175  0.00250612  0.00828446 -0.00785305 -0.00671802\n",
            "  0.01375829  0.05920317 -0.02481735 -0.04822195]\n",
            "73 : [ 0.0121178   0.01279491 -0.0033704   0.00035331 -0.002767   -0.01733619\n",
            " -0.00750965  0.04684414 -0.01906077 -0.04014126]\n",
            "74 : [-0.00503587  0.01147307  0.00513746 -0.00588507  0.00121206 -0.01896187\n",
            " -0.02267547  0.05458545 -0.01429738 -0.0303192 ]\n",
            "75 : [-0.0057397   0.008739    0.00461676 -0.00289703 -0.00023941 -0.01371994\n",
            " -0.02090113  0.04939033 -0.01349165 -0.02349847]\n",
            "76 : [-0.00873479 -0.00159215  0.00446157  0.01301501  0.00477735 -0.00347385\n",
            " -0.02828647  0.04338524 -0.01723738 -0.02040641]\n",
            "77 : [-0.00571218 -0.00116838  0.00645467  0.01264434  0.00468672 -0.00394669\n",
            " -0.02408557  0.03860866 -0.01565741 -0.01906553]\n",
            "78 : [ 0.01525777  0.00464619  0.0022102   0.00815233 -0.00282485 -0.01526463\n",
            " -0.01158183  0.0308242  -0.0124032  -0.02164409]\n",
            "79 : [ 0.01421001  0.00459801  0.00213244  0.00658065 -0.00282598 -0.01390331\n",
            " -0.009922    0.0276491  -0.00988279 -0.02006194]\n",
            "80 : [ 0.00919638  0.00544925  0.00556415  0.00487533  0.0001682  -0.01626967\n",
            " -0.01223536  0.03078049 -0.01490292 -0.01872971]\n",
            "81 : [ 0.00894279  0.00601148  0.00474003  0.00462669 -0.00026247 -0.01397813\n",
            " -0.01195376  0.02766031 -0.01539056 -0.017285  ]\n",
            "82 : [ 0.01334737  0.00583841  0.0079865   0.00263375  0.00144072 -0.00906151\n",
            " -0.0130294   0.02425241 -0.01799806 -0.01617478]\n",
            "83 : [ 0.00813401  0.00838754  0.00691327 -0.00455449  0.00261052 -0.01251763\n",
            " -0.00393427  0.02016894 -0.02083559 -0.01780398]\n",
            "84 : [-0.00719497  0.01065815  0.00510089 -0.00533572 -0.00261173 -0.01823673\n",
            " -0.00302594  0.01450296 -0.02219184 -0.02797297]\n",
            "85 : [-0.02646661  0.00359773  0.00174653  0.01288833  0.00055801 -0.02154637\n",
            "  0.00972645  0.00747487 -0.01039574 -0.01176567]\n",
            "86 : [-0.01553896  0.00832188 -0.00171211  0.0152346   0.00029009 -0.01455528\n",
            " -0.00176069 -0.00527719 -0.00377412  0.00027154]\n",
            "87 : [-0.01428747  0.02078763 -0.01750636  0.01076858  0.0064586  -0.0086893\n",
            "  0.0053382  -0.00523452  0.00554926 -0.0008806 ]\n",
            "88 : [-0.020621    0.02204419 -0.01674633  0.00495892  0.00014928 -0.01367421\n",
            "  0.00611162 -0.00426561  0.00986358  0.00296638]\n",
            "89 : [-0.01976417  0.02113724 -0.01550692  0.00410941  0.00023557 -0.0123552\n",
            "  0.00526372 -0.0027468   0.00833699  0.0033196 ]\n",
            "90 : [-0.02604369  0.0102943  -0.01540255  0.00431502 -0.00334629 -0.01133849\n",
            "  0.01201162  0.0065129   0.01791028 -0.00580763]\n",
            "91 : [-0.0093911   0.02829853 -0.0151371   0.01121319 -0.00173558 -0.03258328\n",
            "  0.01850302 -0.00721216  0.00910855 -0.00600644]\n",
            "92 : [-0.01088974  0.0036359  -0.0306227   0.00374253  0.00344796 -0.03641351\n",
            "  0.00800792 -0.0214259   0.012161   -0.00252028]\n",
            "93 : [-0.0046822   0.05711192  0.00819172  0.04990717  0.02365145 -0.0175313\n",
            " -0.0039358  -0.06178301 -0.00790423  0.00979082]\n",
            "94 : [-2.54826027e-02  5.56991818e-02  1.46656048e-02  4.86486838e-02\n",
            " -3.89283634e-03 -3.67742883e-03 -2.21803280e-03 -6.31453756e-02\n",
            " -3.07385127e-05  9.94193083e-03]\n",
            "95 : [-0.01830243  0.04589606  0.00915825  0.03366038 -0.00986247 -0.01004157\n",
            "  0.02308859 -0.06661949 -0.00473909 -0.01108295]\n",
            "96 : [-0.01775321  0.04065069  0.01186575  0.03095959 -0.01380058 -0.0075137\n",
            "  0.01870461 -0.05755308 -0.00118894 -0.00716965]\n",
            "97 : [-0.02665832  0.03595795  0.01307238  0.01827643 -0.02070933 -0.01258738\n",
            "  0.01442087 -0.06766026 -0.00139025 -0.008529  ]\n",
            "98 : [-0.02669619  0.029544    0.01459354  0.01583706 -0.01281343 -0.03116535\n",
            "  0.00387171 -0.05920982 -0.00702941 -0.0218189 ]\n",
            "99 : [-0.03373966  0.03968941 -0.00059748  0.00950477 -0.01977587 -0.02782323\n",
            " -0.0077457  -0.06520778 -0.00271454 -0.04087852]\n",
            "100 : [-0.02166975  0.02990553  0.00107701  0.00642248 -0.01684339 -0.0325655\n",
            "  0.00145916 -0.06765932 -0.00407361 -0.03820421]\n",
            "101 : [-0.01990106  0.03609428  0.00258025  0.00537828 -0.00222533 -0.02650331\n",
            "  0.00571786 -0.05261393 -0.01078867 -0.03568027]\n",
            "102 : [-0.02651032  0.03004292  0.00566423  0.00990755 -0.00336929 -0.01949518\n",
            "  0.02108287 -0.06263031 -0.00639023 -0.0234904 ]\n",
            "103 : [-0.02638571  0.02610324  0.00425634  0.00769106 -0.00485867 -0.02563692\n",
            "  0.0160002  -0.05736362 -0.00969124 -0.01808942]\n",
            "104 : [-0.02746378  0.02248655  0.00316654  0.0090315  -0.00278305 -0.0199446\n",
            "  0.01637427 -0.0508773  -0.00589718 -0.01732134]\n",
            "105 : [-0.02738649  0.02089481  0.00182942  0.00796197 -0.0040438  -0.01824586\n",
            "  0.01391251 -0.04781669 -0.0068912  -0.01706818]\n",
            "106 : [-0.02661622  0.01764328  0.00172099  0.00667116 -0.00190322 -0.01954261\n",
            "  0.01327543 -0.04330383 -0.00804358 -0.01671746]\n",
            "107 : [-0.02428627  0.02007357  0.00142486  0.00239764 -0.00338935 -0.0153395\n",
            "  0.01468312 -0.04346399 -0.00780301 -0.01316957]\n",
            "108 : [-0.01674209  0.01529085 -0.00353464  0.03122628 -0.01697919 -0.011192\n",
            "  0.00810467 -0.06040735  0.00246337 -0.03178829]\n",
            "109 : [-0.02041708  0.02536423 -0.00482445  0.03703744 -0.01638088 -0.0047773\n",
            "  0.00921228 -0.05508126  0.01297191 -0.03657833]\n",
            "110 : [-0.02709319  0.01487066 -0.00815617  0.03288886 -0.01643659 -0.00281478\n",
            "  0.00470422 -0.04973166  0.00912991 -0.03251383]\n",
            "111 : [-0.02328662  0.02136266 -0.00618759  0.02659854 -0.01841401 -0.00076435\n",
            "  0.00205014 -0.04082287  0.00546138 -0.0319419 ]\n",
            "112 : [-0.01304966  0.03910918 -0.0028918   0.02781701 -0.03986675  0.01573468\n",
            "  0.00121532 -0.03241809  0.01813096 -0.01665121]\n",
            "113 : [-0.00524826  0.03371966  0.00827368  0.02406507 -0.01956362  0.02160938\n",
            " -0.00266636 -0.02669554  0.01689463 -0.03246576]\n",
            "114 : [ 0.0041093   0.00412382 -0.01062547  0.00354424 -0.00805854  0.05108232\n",
            " -0.00809344 -0.02826505  0.02054861 -0.03882005]\n",
            "115 : [ 0.03305897  0.01929043  0.01596698  0.00784421  0.00850391  0.04158162\n",
            "  0.00037485 -0.03718321  0.02527595 -0.04046275]\n",
            "116 : [ 0.02843168  0.0188644   0.01734488  0.0061225   0.00540901  0.0393437\n",
            "  0.0015294  -0.03463898  0.02012131 -0.0327597 ]\n",
            "117 : [ 0.02566058  0.01685892  0.01576543  0.00414314  0.00595056  0.03636464\n",
            "  0.0010508  -0.03308043  0.01918111 -0.03132405]\n",
            "118 : [ 0.02712705  0.01816053  0.01343802  0.00285133  0.01352638  0.0342523\n",
            "  0.00888046 -0.02835905  0.01797224 -0.03112777]\n",
            "119 : [ 0.02484546  0.01933587  0.01044548  0.00160523  0.01059476  0.02982232\n",
            "  0.01325226 -0.02431917  0.01634073 -0.02914542]\n",
            "120 : [ 0.01821513  0.02225217  0.01096482 -0.00084738  0.01845752  0.0210069\n",
            "  0.01525553 -0.02056771  0.01877394 -0.03128954]\n",
            "121 : [ 0.02016433  0.01945911  0.01800421  0.00897521  0.00926629  0.01774791\n",
            "  0.00173882 -0.01468612  0.01519831 -0.01690051]\n",
            "122 : [ 1.89645444e-02  2.01683220e-02  1.50596699e-02  8.35535837e-03\n",
            "  9.62416430e-03  1.51365555e-02  4.56720256e-06 -1.10892207e-02\n",
            "  1.62481197e-02 -1.40011224e-02]\n",
            "123 : [ 0.01294199  0.01717366  0.01470013  0.00644001  0.00754923  0.01137558\n",
            "  0.00131589 -0.01082278  0.01315739 -0.0134414 ]\n",
            "124 : [ 0.0102928   0.01719872  0.01007259  0.00497133 -0.00081136  0.00949669\n",
            " -0.00771931 -0.0069122   0.01472267 -0.0169283 ]\n",
            "125 : [ 0.02855096  0.04807202  0.01344627  0.0074585  -0.0134433   0.00866463\n",
            " -0.00583916  0.00883922 -0.00878634  0.00100481]\n",
            "126 : [ 0.02619305  0.0554651   0.03505744 -0.00537007 -0.02339271  0.00216718\n",
            " -0.00503599 -0.00595676 -0.00770636 -0.00303558]\n",
            "127 : [ 0.022165    0.05164989  0.03306528 -0.00013934 -0.02074574  0.00079662\n",
            " -0.00603315 -0.01018705 -0.0065221  -0.00277773]\n",
            "128 : [ 0.02765332  0.05275426  0.03743137 -0.00117355 -0.02458557  0.00340748\n",
            " -0.00261089 -0.00293914 -0.00801637 -0.00479088]\n",
            "129 : [ 0.03271134  0.0550863   0.06029737  0.00057122  0.01034992  0.00426382\n",
            "  0.00518024 -0.01936186 -0.00892165 -0.04836952]\n",
            "130 : [ 0.02759333  0.05102843  0.05106091 -0.00049138  0.00675145 -0.00013287\n",
            "  0.00673282 -0.01969736 -0.01618045 -0.04745159]\n",
            "131 : [ 0.02690957  0.04022248  0.05413854  0.0072389   0.01017621  0.00375639\n",
            " -0.00643491 -0.01212271 -0.02540509 -0.03589573]\n",
            "132 : [ 0.03034821  0.03070932  0.0487579   0.00711172  0.01275735  0.003562\n",
            " -0.00188396 -0.01542863 -0.02655751 -0.04099836]\n",
            "133 : [ 0.02799788  0.02733404  0.04330178  0.00617432  0.01133776  0.00264114\n",
            " -0.00264409 -0.01214444 -0.02377466 -0.03638844]\n",
            "134 : [ 0.01440121  0.02095702  0.05311133 -0.00162585  0.03228411 -0.00457799\n",
            "  0.00382335 -0.00846466 -0.02954624 -0.03432397]\n",
            "135 : [ 0.00918314  0.01660997  0.04859061 -0.00234289  0.03572    -0.00316614\n",
            "  0.00487475 -0.00938463 -0.0362694  -0.02932155]\n",
            "136 : [ 0.01162317  0.01579793  0.04718602 -0.00408517  0.02919037 -0.00677806\n",
            " -0.00069222 -0.00891719 -0.03385422 -0.03067758]\n",
            "137 : [ 0.01532759  0.01645696  0.05181891  0.00147817  0.0394946   0.00549366\n",
            "  0.00159084  0.002542   -0.04398961 -0.02014481]\n",
            "138 : [ 0.01602076  0.01993059  0.05406327  0.0017338   0.03844677  0.00935918\n",
            " -0.00019391 -0.00069162 -0.04439086 -0.01923347]\n",
            "139 : [ 0.02372385  0.02328533  0.04937234 -0.00256516  0.04202982  0.01250911\n",
            " -0.00265264  0.00038297 -0.03796999 -0.01779034]\n",
            "140 : [ 0.0183341   0.02107287  0.0527253  -0.00523688  0.03952545  0.00877927\n",
            "  0.00435431  0.00023175 -0.03103433 -0.01499066]\n",
            "141 : [ 0.01652455  0.01721054  0.04785094 -0.00900128  0.03921752  0.01037161\n",
            " -0.00504069  0.00314203 -0.02680834 -0.00923037]\n",
            "142 : [ 0.01474235  0.01479401  0.04845797 -0.00582508  0.0379984   0.01142117\n",
            " -0.00726139  0.00153527 -0.02270606 -0.00648053]\n",
            "143 : [ 0.01389715  0.01383823  0.04508823 -0.00522452  0.03569718  0.01036438\n",
            " -0.00626115  0.0022828  -0.02085383 -0.00538736]\n",
            "144 : [ 0.01297491  0.01203441  0.0417566  -0.00677024  0.02852166  0.00881657\n",
            " -0.00355985  0.00247821 -0.01812194 -0.00169641]\n",
            "145 : [ 0.01432715  0.01171492  0.04196365 -0.00939556  0.02463229  0.01155325\n",
            " -0.00693873  0.00350093 -0.01444255  0.00469193]\n",
            "146 : [ 0.02223454  0.01493236  0.03937156 -0.01197935  0.01803442  0.0115408\n",
            " -0.01406872  0.00675717 -0.01684798  0.00513414]\n",
            "147 : [ 0.0199394   0.01180687  0.03726861 -0.01132196  0.01681067  0.01072408\n",
            " -0.01355436  0.00702775 -0.0160148   0.00433309]\n",
            "148 : [ 0.01007323  0.01264003  0.03273116 -0.00809412  0.01189763  0.0034329\n",
            " -0.02136117 -0.00116017 -0.00639429  0.01121459]\n",
            "149 : [-0.00105981  0.00999988  0.03554834 -0.01132835  0.00522526  0.00431363\n",
            " -0.02701421 -0.00228067 -0.00198401  0.00297213]\n",
            "150 : [ 0.01194561  0.03544836  0.02413856 -0.00545068  0.02326796 -0.04102643\n",
            " -0.02290251  0.00710524 -0.00603559  0.01475645]\n",
            "151 : [ 0.01054807  0.03343788  0.01992959 -0.00551474  0.02253723 -0.03818787\n",
            " -0.02083276  0.0097476  -0.0048281   0.01682046]\n",
            "152 : [ 0.00726378  0.03141607  0.01863428 -0.00110202  0.02033867 -0.03561674\n",
            " -0.01704587  0.00902159 -0.00443235  0.01561014]\n",
            "153 : [ 0.01707823  0.03959573  0.02748744 -0.00756708  0.02041851 -0.04038397\n",
            " -0.00799079 -0.00406962 -0.0072727   0.00960063]\n",
            "154 : [ 0.04021908  0.02853662  0.03310655 -0.00535325  0.03454117 -0.04288872\n",
            " -0.00777488 -0.01027947  0.00946027  0.00411042]\n",
            "155 : [ 0.04810236  0.01748952  0.01954798 -0.01331623  0.03451949 -0.02291398\n",
            " -0.00660783 -0.03391931  0.00720305 -0.01257805]\n",
            "156 : [ 0.04236833  0.01565236  0.01441788 -0.01194868  0.03114456 -0.02039805\n",
            " -0.00595826 -0.03470941  0.00815144 -0.0111441 ]\n",
            "157 : [ 0.03024109  0.01347     0.01515372 -0.01252624  0.03862373 -0.02158846\n",
            " -0.01148025 -0.03625896  0.0144067  -0.0105753 ]\n",
            "158 : [ 0.02347184  0.04247981  0.00217366 -0.01274444  0.06191034 -0.03803794\n",
            " -0.02244226 -0.02477792  0.01680662  0.0018719 ]\n",
            "159 : [ 0.02202734  0.04283958  0.00112639 -0.01175375  0.05784173 -0.03560198\n",
            " -0.02007777 -0.03103634  0.01340096  0.00293492]\n",
            "160 : [ 1.87554981e-02  3.94252593e-02  6.57675760e-04 -1.17309600e-02\n",
            "  5.51900780e-02 -3.21321378e-02 -2.04774893e-02 -2.89511078e-02\n",
            "  1.21851595e-02  3.37740672e-05]\n",
            "161 : [ 0.01833097  0.03594548  0.00117367 -0.01020214  0.05042251 -0.0301042\n",
            " -0.01939141 -0.02882995  0.01215951  0.00121577]\n",
            "162 : [ 0.02331131  0.02715158  0.0050429  -0.01329046  0.05102942 -0.03222618\n",
            " -0.0155474  -0.0241521   0.01011776  0.00239023]\n",
            "163 : [ 0.0257906   0.04878328  0.01036381  0.00286124  0.04335086 -0.04601208\n",
            " -0.00263679 -0.03478214 -0.02150313  0.03965752]\n",
            "164 : [ 0.0254311   0.04370188  0.00912829  0.00256002  0.04115233 -0.04044959\n",
            " -0.00329485 -0.03091725 -0.0180823   0.03766627]\n",
            "165 : [ 0.02560303  0.04127531  0.01024672 -0.00105465  0.04282222 -0.03830284\n",
            "  0.00039884 -0.02801572 -0.0168265   0.03441302]\n",
            "166 : [ 0.02662947  0.03323002  0.01295015  0.00222138  0.0453657  -0.03727922\n",
            "  0.00397472 -0.02824359 -0.01817699  0.028873  ]\n",
            "167 : [ 0.02334403  0.03208709  0.010761    0.00433375  0.03918391 -0.03237596\n",
            "  0.00503536 -0.02258151 -0.01568488  0.02700354]\n",
            "168 : [ 0.01941651  0.03743797  0.01122125 -0.00250944  0.0394573  -0.03245554\n",
            "  0.00737677 -0.01206883 -0.00806425  0.02167302]\n",
            "169 : [ 0.00962315  0.03559298  0.01263709 -0.00358871  0.02736041 -0.01890405\n",
            "  0.00549432 -0.01211229  0.00201423  0.01435569]\n",
            "170 : [ 0.01079092  0.04250014  0.02615063 -0.00550139  0.03109168 -0.03519281\n",
            "  0.01208776 -0.00308135 -0.00761128  0.01372226]\n",
            "171 : [ 0.0025173   0.03743585  0.03468691  0.001442    0.03179628 -0.02046043\n",
            "  0.00073218  0.00586724  0.01208556  0.02615687]\n",
            "172 : [ 0.00041947  0.03510375  0.03224619  0.00176249  0.02944311 -0.01940307\n",
            "  0.00136594  0.00584463  0.01270478  0.02518464]\n",
            "173 : [ 0.00013813  0.0283402   0.02145628  0.00156924  0.02770001 -0.02585438\n",
            "  0.00343331  0.00891832  0.00671071  0.01930022]\n",
            "174 : [ 0.00088443  0.02334026  0.0217967   0.00325349  0.02765564 -0.0258787\n",
            " -0.0002378   0.00798323  0.00845492  0.01639732]\n",
            "175 : [ 0.00542925  0.01964032  0.02016826  0.00432185  0.02174554 -0.02854416\n",
            "  0.00930194  0.01019547  0.01158157  0.01710883]\n",
            "176 : [ 0.00533746  0.01818152  0.01895116  0.00417305  0.02127004 -0.02619483\n",
            "  0.00833132  0.00952496  0.01040721  0.0158156 ]\n",
            "177 : [-0.00063565 -0.00291184  0.04456367  0.0231851   0.00992857 -0.01520433\n",
            "  0.03519937  0.02721782 -0.02361914  0.01585626]\n",
            "178 : [ 0.00026186 -0.00169126  0.04608067  0.02064412  0.00621823 -0.01185227\n",
            "  0.0284947   0.02335382 -0.01208524  0.01986167]\n",
            "179 : [-0.00142643 -0.01078617  0.04483138  0.02321893  0.00841861 -0.00867154\n",
            "  0.0233365   0.01364125 -0.00677408  0.00992859]\n",
            "180 : [-0.00071311 -0.00465166  0.04338396  0.02343205  0.00499244 -0.00706433\n",
            "  0.01181655  0.01612255 -0.00726525  0.01084937]\n",
            "181 : [-0.00249928 -0.00551766  0.03830172  0.02324997  0.00474617 -0.00958554\n",
            "  0.01017026  0.01602477 -0.00974004  0.01368097]\n",
            "182 : [-0.0040871  -0.00361634  0.03856303  0.02191886  0.00021957 -0.00861062\n",
            "  0.01247312  0.01431366 -0.00657411  0.01401911]\n",
            "183 : [-0.00023343 -0.00131397  0.02994204  0.02288027  0.01176158 -0.01306002\n",
            "  0.01004508  0.00941014 -0.01040909  0.01012156]\n",
            "184 : [ 0.00635975  0.00911252  0.02768472  0.02248564  0.00887722 -0.00305311\n",
            "  0.01549128  0.00740274 -0.01307513  0.01029407]\n",
            "185 : [ 0.0023257   0.01279795  0.02540026  0.0232094   0.01084048 -0.00097671\n",
            "  0.01187586  0.00572168 -0.00972023  0.01009516]\n",
            "186 : [ 0.00210356  0.01044455  0.02071875  0.02104654  0.01228113 -0.00081874\n",
            "  0.0108861   0.0053395  -0.00859067  0.0073904 ]\n",
            "187 : [ 0.00469382  0.00905615  0.02163134  0.01785884  0.01250068 -0.00285997\n",
            "  0.00944412  0.00764368 -0.00502636  0.00462927]\n",
            "188 : [ 0.00328408  0.01030255  0.02153129  0.01399878  0.016105   -0.00063016\n",
            "  0.00841577  0.01433787 -0.00449673  0.00457774]\n",
            "189 : [-0.01110092  0.01300848  0.01047026  0.01464087  0.03294674 -0.00190577\n",
            "  0.01497083  0.00483175  0.00891515  0.03103415]\n",
            "190 : [-0.00035542 -0.00387148 -0.01085443  0.03875661  0.02457354  0.00148053\n",
            "  0.01544255  0.00795191  0.02426522  0.03319307]\n",
            "191 : [-0.00467389  0.00103981 -0.01156085  0.03617767  0.02510439  0.00279164\n",
            "  0.02202617  0.00614168  0.02005274  0.03226081]\n",
            "192 : [-0.00669006  0.00338768 -0.00377857  0.03666526  0.02039313  0.00452228\n",
            "  0.02664457  0.00393892  0.01854745  0.03214418]\n",
            "193 : [-0.02735051 -0.00222657 -0.01238915  0.0249231   0.01319869 -0.00653742\n",
            "  0.03228406 -0.00271709  0.00447749  0.03975828]\n",
            "194 : [-0.02703012 -0.00940881 -0.01524122  0.01991145  0.01388007 -0.00944939\n",
            "  0.03086685 -0.00426538 -0.00181888  0.03366186]\n",
            "195 : [-0.02568313 -0.00757371 -0.01685818  0.01645022  0.00406329 -0.00306545\n",
            "  0.02846187 -0.000834   -0.00098002  0.0274488 ]\n",
            "196 : [-0.02296405 -0.00637912 -0.01580004  0.01740105  0.00224256 -0.00169386\n",
            "  0.02509256 -0.00160928 -0.00281819  0.02318725]\n",
            "197 : [-0.01916683 -0.00614156 -0.01662371  0.01736178  0.00188967 -0.00495505\n",
            "  0.02306785 -0.00191349 -0.00331886  0.01888407]\n",
            "198 : [-0.01922611 -0.00557746 -0.01570224  0.01377817  0.00140248 -0.00408446\n",
            "  0.02106721 -0.00012468 -0.00280057  0.01729379]\n",
            "199 : [-0.01804732 -0.00311396 -0.01145605  0.01096391  0.00478821 -0.0069882\n",
            "  0.02651291 -0.00149641 -0.00652442  0.01566557]\n",
            "200 : [-0.01809224 -0.00288223 -0.01338801  0.01280065  0.00452221 -0.00778748\n",
            "  0.02451686 -0.00259304 -0.00718191  0.01357311]\n",
            "201 : [-0.0151587   0.00063253 -0.01074936  0.01357947  0.00486626 -0.00848029\n",
            "  0.0243475  -0.00329261 -0.0090398   0.01445761]\n",
            "202 : [-2.06461201e-02 -3.65275970e-03 -1.27016047e-02  9.36460004e-03\n",
            " -5.66341770e-03 -2.62848523e-03  2.59320642e-02 -9.49365511e-03\n",
            " -1.31035599e-02 -7.38071059e-05]\n",
            "203 : [-0.01937059 -0.00322907 -0.01170325  0.00838511 -0.00498061 -0.00207388\n",
            "  0.02388288 -0.00974349 -0.01163294 -0.0002432 ]\n",
            "204 : [-0.01198342 -0.00039672 -0.00844301  0.0092532  -0.00428823 -0.00227553\n",
            "  0.02484162 -0.01370784 -0.01047204  0.00330144]\n",
            "205 : [-0.00759454 -0.00283877 -0.00955883  0.0090842  -0.00226843 -0.00067753\n",
            "  0.01985374 -0.0129167  -0.00826612  0.00174871]\n",
            "206 : [-0.00786365 -0.00725263 -0.01671027  0.0222166  -0.00766889  0.00150354\n",
            "  0.01287768  0.00536158 -0.00470302  0.00214036]\n",
            "207 : [ 0.01136206 -0.00889203 -0.03576397 -0.00016125  0.00167331  0.00466871\n",
            " -0.0090716   0.01516814 -0.01683347  0.00999602]\n",
            "208 : [ 0.01219551 -0.00877898 -0.03341898  0.00175234  0.00153843  0.00464629\n",
            " -0.00919357  0.01330565 -0.01494085  0.00803597]\n",
            "209 : [ 0.01155526 -0.01493516 -0.03263084 -0.00091428 -0.00231733  0.0097549\n",
            " -0.00819197  0.01823369 -0.01664553  0.01053523]\n",
            "210 : [ 0.00640045  0.0555883  -0.09113009  0.00139418  0.00143106 -0.00662998\n",
            " -0.01728431 -0.00170657 -0.0418972  -0.01885812]\n",
            "211 : [ 0.00697945  0.04928405 -0.08431231  0.00430775 -0.00049955 -0.00915385\n",
            " -0.01453303 -0.00242043 -0.03792681 -0.01456504]\n",
            "212 : [ 0.01369918  0.03740797 -0.08459463 -0.00885687  0.00930387 -0.0045019\n",
            " -0.00449513  0.00396009 -0.02806432 -0.00837068]\n",
            "213 : [ 0.01202278  0.03484644 -0.07630228 -0.00918783  0.01046227 -0.00407889\n",
            " -0.00346026  0.00291929 -0.02689526 -0.01000624]\n",
            "214 : [ 0.01620722  0.03602011 -0.06864261 -0.00907406  0.00646229  0.00147195\n",
            " -0.00624373  0.0022554  -0.02639531 -0.00864188]\n",
            "215 : [ 0.01329753  0.0336125  -0.06521571 -0.00761893  0.00464194  0.00087308\n",
            " -0.00533554  0.00096745 -0.02450052 -0.00690468]\n",
            "216 : [ 0.0160812   0.01690381 -0.05670638 -0.00722871  0.00481443 -0.00295387\n",
            " -0.00343359 -0.00466809 -0.01883654 -0.00492253]\n",
            "217 : [ 0.01391266  0.01662491 -0.04987547 -0.00130668  0.00797635  0.00097231\n",
            " -0.00388393 -0.00730267 -0.01724367 -0.00503703]\n",
            "218 : [ 0.01304029  0.01465792 -0.04532751 -0.00183539  0.00807494  0.00238404\n",
            " -0.00307153 -0.00462633 -0.01497981 -0.00640631]\n",
            "219 : [ 1.43689032e-02  1.59235966e-02 -3.92039044e-02 -2.12032140e-03\n",
            "  7.21104626e-03 -1.03810775e-04  7.83876363e-04 -2.42975985e-05\n",
            " -1.09770668e-02 -3.28264378e-03]\n",
            "220 : [ 1.37299592e-02  1.42475124e-02 -3.64895402e-02 -2.08447046e-03\n",
            "  6.90413870e-03  6.55545477e-05  1.22566738e-03  1.21462019e-04\n",
            " -9.37630073e-03 -3.41672710e-03]\n",
            "221 : [ 0.0205919   0.0162021  -0.03942525 -0.00256704  0.0074447   0.0010368\n",
            " -0.00585092 -0.00501844 -0.01201106 -0.00290196]\n",
            "222 : [ 0.02378304  0.00745469 -0.03673625 -0.00486738  0.00528099  0.01269281\n",
            " -0.00502894  0.00185959 -0.02095185 -0.00739461]\n",
            "223 : [ 0.02142724  0.0086539  -0.03357096 -0.00335129  0.00171853  0.01477118\n",
            " -0.00338796  0.00101028 -0.01371071 -0.00696923]\n",
            "224 : [ 0.02337455 -0.00879276 -0.02224483  0.01223028 -0.00173917  0.01839644\n",
            "  0.00355614  0.00452251  0.00327268 -0.02033426]\n",
            "225 : [ 0.02238521 -0.01363161 -0.02430192  0.01619839  0.00211561  0.01294388\n",
            "  0.01807954  0.02064308  0.00837741  0.00471442]\n",
            "226 : [ 0.00016339 -0.00777399 -0.02689785 -0.00610014 -0.01647059 -0.00236943\n",
            "  0.04312603  0.02243266  0.0411715   0.03695114]\n",
            "227 : [-6.70687357e-03 -1.27659459e-02 -2.83983841e-02  8.93533767e-05\n",
            " -1.28461279e-02 -2.36339455e-03  4.83021972e-02  1.90704134e-02\n",
            "  3.72395836e-02  4.20869871e-02]\n",
            "228 : [ 0.018022    0.00740776 -0.04043467  0.00031633 -0.00356231 -0.00506692\n",
            "  0.01444675  0.02688243  0.02527461  0.05657957]\n",
            "229 : [ 0.01341381  0.00051045 -0.03702081  0.00089662 -0.00238914 -0.00659988\n",
            "  0.01836553  0.02325598  0.0216953   0.05205042]\n",
            "230 : [ 0.00329072  0.00653309 -0.02661109  0.00495641  0.00558931 -0.01357024\n",
            "  0.01922871  0.01846137  0.02570008  0.04985706]\n",
            "231 : [ 0.00318413  0.00745948 -0.0252347   0.0049174   0.0047494  -0.01203877\n",
            "  0.01742316  0.01665591  0.02503184  0.04622776]\n"
          ]
        }
      ]
    },
    {
      "cell_type": "code",
      "source": [
        "model.intercept_"
      ],
      "metadata": {
        "colab": {
          "base_uri": "https://localhost:8080/"
        },
        "id": "Iqw4AOR9hXTD",
        "outputId": "1633316f-c488-4d35-ed8e-3707219a7c90"
      },
      "execution_count": 75,
      "outputs": [
        {
          "output_type": "execute_result",
          "data": {
            "text/plain": [
              "array([-0.17384673])"
            ]
          },
          "metadata": {},
          "execution_count": 75
        }
      ]
    },
    {
      "cell_type": "code",
      "source": [
        "# prompt: Step 8: Calculate different evaluation metrics value like mean_square_error, R2_score.\n",
        "\n",
        "from sklearn.metrics import mean_squared_error, r2_score\n",
        "\n",
        "# Predict on the test set\n",
        "y_pred = model.predict(X_test)\n",
        "\n",
        "# Calculate evaluation metrics\n",
        "mse = mean_squared_error(y_test, y_pred)\n",
        "r2 = r2_score(y_test, y_pred)\n",
        "\n",
        "print(\"Mean Squared Error:\", mse)\n",
        "print(\"R-squared Score:\", r2)\n"
      ],
      "metadata": {
        "colab": {
          "base_uri": "https://localhost:8080/"
        },
        "id": "rCP6kZqYg0Y8",
        "outputId": "5ccecd31-f7ab-4ad8-939a-e01c9a2b4b1a"
      },
      "execution_count": 74,
      "outputs": [
        {
          "output_type": "stream",
          "name": "stdout",
          "text": [
            "Mean Squared Error: 37281.016028503946\n",
            "R-squared Score: 0.00012707101304065826\n"
          ]
        }
      ]
    },
    {
      "cell_type": "code",
      "source": [
        "model.coef_"
      ],
      "metadata": {
        "colab": {
          "base_uri": "https://localhost:8080/"
        },
        "id": "kKwLrCmVhlyZ",
        "outputId": "f39a1ec8-0f29-497f-e085-d9b2ec4f80e9"
      },
      "execution_count": 76,
      "outputs": [
        {
          "output_type": "execute_result",
          "data": {
            "text/plain": [
              "array([ 0.00318413,  0.00745948, -0.0252347 ,  0.0049174 ,  0.0047494 ,\n",
              "       -0.01203877,  0.01742316,  0.01665591,  0.02503184,  0.04622776])"
            ]
          },
          "metadata": {},
          "execution_count": 76
        }
      ]
    }
  ]
}